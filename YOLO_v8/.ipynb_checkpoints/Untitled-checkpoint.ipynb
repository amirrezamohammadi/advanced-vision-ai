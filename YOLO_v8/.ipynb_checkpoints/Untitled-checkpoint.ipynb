{
 "cells": [
  {
   "cell_type": "code",
   "execution_count": 1,
   "id": "158ae529",
   "metadata": {},
   "outputs": [
    {
     "name": "stdout",
     "output_type": "stream",
     "text": [
      "ASYNC_ENGINE_COUNT = 1\n",
      "CAN_MAP_HOST_MEMORY = 1\n",
      "CAN_USE_HOST_POINTER_FOR_REGISTERED_MEM = 0\n",
      "CLOCK_RATE = 1480500\n",
      "COMPUTE_CAPABILITY_MAJOR = 6\n",
      "COMPUTE_CAPABILITY_MINOR = 1\n",
      "COMPUTE_MODE = 0\n",
      "COMPUTE_PREEMPTION_SUPPORTED = 1\n",
      "CONCURRENT_KERNELS = 1\n",
      "CONCURRENT_MANAGED_ACCESS = 0\n",
      "COOPERATIVE_LAUNCH = 1\n",
      "COOPERATIVE_MULTI_DEVICE_LAUNCH = 0\n",
      "ECC_ENABLED = 0\n",
      "GLOBAL_L1_CACHE_SUPPORTED = 1\n",
      "GLOBAL_MEMORY_BUS_WIDTH = 160\n",
      "GPU_OVERLAP = 1\n",
      "HOST_NATIVE_ATOMIC_SUPPORTED = 0\n",
      "INTEGRATED = 0\n",
      "IS_MULTI_GPU_BOARD = 0\n",
      "KERNEL_EXEC_TIMEOUT = 1\n",
      "L2_CACHE_SIZE = 1310720\n",
      "LOCAL_L1_CACHE_SUPPORTED = 1\n",
      "MANAGED_MEMORY = 1\n",
      "MAX_BLOCK_DIM_X = 1024\n",
      "MAX_BLOCK_DIM_Y = 1024\n",
      "MAX_BLOCK_DIM_Z = 64\n",
      "MAX_GRID_DIM_X = 2147483647\n",
      "MAX_GRID_DIM_Y = 65535\n",
      "MAX_GRID_DIM_Z = 65535\n",
      "MAX_MAX_TEXTURE_2D_MIPMAPPED_HEIGHT = 32768\n",
      "MAX_PITCH = 2147483647\n",
      "MAX_REGISTERS_PER_BLOCK = 65536\n",
      "MAX_REGISTERS_PER_MULTIPROCESSOR = 65536\n",
      "MAX_SHARED_MEMORY_PER_BLOCK = 49152\n",
      "MAX_SHARED_MEMORY_PER_BLOCK_OPTIN = 49152\n",
      "MAX_SHARED_MEMORY_PER_MULTIPROCESSOR = 98304\n",
      "MAX_SURFACE_1D_LAYERED_LAYERS = 2048\n",
      "MAX_SURFACE_1D_LAYERED_WIDTH = 32768\n",
      "MAX_SURFACE_1D_WIDTH = 32768\n",
      "MAX_SURFACE_2D_HEIGHT = 65536\n",
      "MAX_SURFACE_2D_LAYERED_HEIGHT = 32768\n",
      "MAX_SURFACE_2D_LAYERED_LAYERS = 2048\n",
      "MAX_SURFACE_2D_LAYERED_WIDTH = 32768\n",
      "MAX_SURFACE_2D_WIDTH = 131072\n",
      "MAX_SURFACE_3D_DEPTH = 16384\n",
      "MAX_SURFACE_3D_HEIGHT = 16384\n",
      "MAX_SURFACE_3D_WIDTH = 16384\n",
      "MAX_SURFACE_CUBEMAP_LAYERED_LAYERS = 2046\n",
      "MAX_SURFACE_CUBEMAP_LAYERED_WIDTH = 32768\n",
      "MAX_SURFACE_CUBEMAP_WIDTH = 32768\n",
      "MAX_TEXTURE_1D_LAYERED_LAYERS = 2048\n",
      "MAX_TEXTURE_1D_LAYERED_WIDTH = 32768\n",
      "MAX_TEXTURE_1D_LINEAR_WIDTH = 268435456\n",
      "MAX_TEXTURE_1D_MIPMAPPED_WIDTH = 16384\n",
      "MAX_TEXTURE_1D_WIDTH = 131072\n",
      "MAX_TEXTURE_2D_GATHER_HEIGHT = 32768\n",
      "MAX_TEXTURE_2D_GATHER_WIDTH = 32768\n",
      "MAX_TEXTURE_2D_HEIGHT = 65536\n",
      "MAX_TEXTURE_2D_LAYERED_HEIGHT = 32768\n",
      "MAX_TEXTURE_2D_LAYERED_LAYERS = 2048\n",
      "MAX_TEXTURE_2D_LAYERED_WIDTH = 32768\n",
      "MAX_TEXTURE_2D_LINEAR_HEIGHT = 65000\n",
      "MAX_TEXTURE_2D_LINEAR_PITCH = 2097120\n",
      "MAX_TEXTURE_2D_LINEAR_WIDTH = 131072\n",
      "MAX_TEXTURE_2D_MIPMAPPED_WIDTH = 32768\n",
      "MAX_TEXTURE_2D_WIDTH = 131072\n",
      "MAX_TEXTURE_3D_DEPTH = 16384\n",
      "MAX_TEXTURE_3D_DEPTH_ALT = 32768\n",
      "MAX_TEXTURE_3D_HEIGHT = 16384\n",
      "MAX_TEXTURE_3D_HEIGHT_ALT = 8192\n",
      "MAX_TEXTURE_3D_WIDTH = 16384\n",
      "MAX_TEXTURE_3D_WIDTH_ALT = 8192\n",
      "MAX_TEXTURE_CUBEMAP_LAYERED_LAYERS = 2046\n",
      "MAX_TEXTURE_CUBEMAP_LAYERED_WIDTH = 32768\n",
      "MAX_TEXTURE_CUBEMAP_WIDTH = 32768\n",
      "MAX_THREADS_PER_BLOCK = 1024\n",
      "MAX_THREADS_PER_MULTI_PROCESSOR = 2048\n",
      "MEMORY_CLOCK_RATE = 3504000\n",
      "MULTIPROCESSOR_COUNT = 8\n",
      "MULTI_GPU_BOARD_GROUP_ID = 0\n",
      "PAGEABLE_MEMORY_ACCESS = 0\n",
      "PCI_BUS_ID = 1\n",
      "PCI_DEVICE_ID = 0\n",
      "PCI_DOMAIN_ID = 0\n",
      "SINGLE_TO_DOUBLE_PRECISION_PERF_RATIO = 32\n",
      "STREAM_PRIORITIES_SUPPORTED = 1\n",
      "SURFACE_ALIGNMENT = 512\n",
      "TCC_DRIVER = 0\n",
      "TEXTURE_ALIGNMENT = 512\n",
      "TEXTURE_PITCH_ALIGNMENT = 32\n",
      "TOTAL_CONSTANT_MEMORY = 65536\n",
      "UNIFIED_ADDRESSING = 1\n",
      "WARP_SIZE = 32\n"
     ]
    }
   ],
   "source": [
    "from numba.cuda.cudadrv import enums\n",
    "from numba import cuda\n",
    "\n",
    "device = cuda.get_current_device()\n",
    "attribs= [name.replace(\"CU_DEVICE_ATTRIBUTE_\", \"\") for name in dir(enums) if name.startswith(\"CU_DEVICE_ATTRIBUTE_\")]\n",
    "for attr in attribs:\n",
    "    print(attr, '=', getattr(device, attr))"
   ]
  },
  {
   "cell_type": "code",
   "execution_count": 3,
   "id": "7359ecd3",
   "metadata": {},
   "outputs": [],
   "source": [
    "from numba import cuda"
   ]
  },
  {
   "cell_type": "code",
   "execution_count": 4,
   "id": "56252935",
   "metadata": {},
   "outputs": [
    {
     "name": "stdout",
     "output_type": "stream",
     "text": [
      "Found 1 CUDA devices\n",
      "id 0         b'Quadro P2000'                              [SUPPORTED]\n",
      "                      Compute Capability: 6.1\n",
      "                           PCI Device ID: 0\n",
      "                              PCI Bus ID: 1\n",
      "                                    UUID: GPU-5d485d70-9893-e1b6-bbb0-4cc7ab33c51e\n",
      "                                Watchdog: Enabled\n",
      "                            Compute Mode: WDDM\n",
      "             FP32/FP64 Performance Ratio: 32\n",
      "Summary:\n",
      "\t1/1 devices are supported\n"
     ]
    },
    {
     "data": {
      "text/plain": [
       "True"
      ]
     },
     "execution_count": 4,
     "metadata": {},
     "output_type": "execute_result"
    }
   ],
   "source": [
    "cuda.detect()"
   ]
  },
  {
   "cell_type": "code",
   "execution_count": 5,
   "id": "826554c4",
   "metadata": {},
   "outputs": [
    {
     "data": {
      "text/plain": [
       "[PhysicalDevice(name='/physical_device:CPU:0', device_type='CPU')]"
      ]
     },
     "execution_count": 5,
     "metadata": {},
     "output_type": "execute_result"
    }
   ],
   "source": [
    "import tensorflow as tf\n",
    "tf.config.list_physical_devices()"
   ]
  },
  {
   "cell_type": "code",
   "execution_count": 6,
   "id": "8fe96960",
   "metadata": {},
   "outputs": [
    {
     "name": "stdout",
     "output_type": "stream",
     "text": [
      "WARNING:tensorflow:From C:\\Users\\S22200847\\AppData\\Local\\Temp\\ipykernel_8588\\337460670.py:1: is_gpu_available (from tensorflow.python.framework.test_util) is deprecated and will be removed in a future version.\n",
      "Instructions for updating:\n",
      "Use `tf.config.list_physical_devices('GPU')` instead.\n"
     ]
    },
    {
     "data": {
      "text/plain": [
       "False"
      ]
     },
     "execution_count": 6,
     "metadata": {},
     "output_type": "execute_result"
    }
   ],
   "source": [
    "tf.test.is_gpu_available()"
   ]
  },
  {
   "cell_type": "code",
   "execution_count": null,
   "id": "f1072bd9",
   "metadata": {},
   "outputs": [],
   "source": []
  }
 ],
 "metadata": {
  "kernelspec": {
   "display_name": "Python 3 (ipykernel)",
   "language": "python",
   "name": "python3"
  },
  "language_info": {
   "codemirror_mode": {
    "name": "ipython",
    "version": 3
   },
   "file_extension": ".py",
   "mimetype": "text/x-python",
   "name": "python",
   "nbconvert_exporter": "python",
   "pygments_lexer": "ipython3",
   "version": "3.10.9"
  }
 },
 "nbformat": 4,
 "nbformat_minor": 5
}
